{
 "cells": [
  {
   "cell_type": "code",
   "execution_count": 2,
   "metadata": {},
   "outputs": [
    {
     "name": "stdout",
     "output_type": "stream",
     "text": [
      "4\n",
      "[1, 1, 2, 3]\n"
     ]
    }
   ],
   "source": [
    "#print numbers in list less than the given number\n",
    "l=[1, 1, 2, 3, 5, 8, 13, 21, 34, 55, 89]\n",
    "n=int(input())\n",
    "m=[x for x in l if x<n]\n",
    "print(m)\n",
    "#for x in l:\n",
    " #   if x<n:\n",
    "  #      m.append(x)\n",
    "#print(m)        "
   ]
  },
  {
   "cell_type": "code",
   "execution_count": 1,
   "metadata": {},
   "outputs": [
    {
     "name": "stdout",
     "output_type": "stream",
     "text": [
      "Please choose a number to divide: 6\n",
      "[1, 2, 3, 6]\n"
     ]
    }
   ],
   "source": [
    "#divisors\n",
    "num = int(input(\"Please choose a number to divide: \"))\n",
    "\n",
    "listRange = list(range(1,num+1))\n",
    "\n",
    "divisorList = []\n",
    "\n",
    "for number in listRange:\n",
    "    if num % number == 0:\n",
    "        divisorList.append(number)\n",
    "\n",
    "print(divisorList)"
   ]
  },
  {
   "cell_type": "code",
   "execution_count": 9,
   "metadata": {},
   "outputs": [
    {
     "name": "stdout",
     "output_type": "stream",
     "text": [
      "[1, 2, 3, 4, 5, 6, 9]\n"
     ]
    }
   ],
   "source": [
    "#intersection of two lists\n",
    "l=[1,2,3,4,5,6,9]\n",
    "a=[1,2,3,4,5,6,7,8,9]\n",
    "s=[]\n",
    "for x in l:\n",
    "    for y in a:\n",
    "        if x==y:\n",
    "            s.append(x)\n",
    "print(s)"
   ]
  },
  {
   "cell_type": "code",
   "execution_count": 1,
   "metadata": {},
   "outputs": [
    {
     "data": {
      "text/plain": [
       "3"
      ]
     },
     "execution_count": 1,
     "metadata": {},
     "output_type": "execute_result"
    }
   ],
   "source": [
    "1+2"
   ]
  },
  {
   "cell_type": "code",
   "execution_count": 3,
   "metadata": {},
   "outputs": [
    {
     "name": "stdout",
     "output_type": "stream",
     "text": [
      "tulasi\n",
      "tulasi isn't a palindrome\n"
     ]
    }
   ],
   "source": [
    "#check whether the string is palindrome\n",
    "a=input()\n",
    "if a[::-1]==a[::]:\n",
    "    print('{} is a palindrome'.format(a))\n",
    "else:\n",
    "    print(\"{} isn't a palindrome\".format(a))"
   ]
  },
  {
   "cell_type": "code",
   "execution_count": 8,
   "metadata": {},
   "outputs": [
    {
     "name": "stdout",
     "output_type": "stream",
     "text": [
      "[2, 4, 6, 8, 10]\n"
     ]
    }
   ],
   "source": [
    "#taking only even numbers in the list\n",
    "a=[1,2,3,4,5,6,7,8,9,10]\n",
    "m=[x for x in a if x%2==0]\n",
    "print(m)"
   ]
  },
  {
   "cell_type": "code",
   "execution_count": 1,
   "metadata": {},
   "outputs": [
    {
     "data": {
      "application/vnd.jupyter.widget-view+json": {
       "model_id": "3bb63e4592d74676959a663ef847235d",
       "version_major": 2,
       "version_minor": 0
      },
      "text/plain": [
       "interactive(children=(Dropdown(description='player1', options=('rock', 'paper', 'scissors'), value='rock'), Dr…"
      ]
     },
     "metadata": {},
     "output_type": "display_data"
    }
   ],
   "source": [
    "#rock paper scissors\n",
    "from ipywidgets import interact\n",
    "import ipywidgets as widgets\n",
    "def game(player1,player2):\n",
    " x=player1\n",
    " y=player2 \n",
    " if x!=y:\n",
    "     if x=='rock':\n",
    "        if y=='scissors':\n",
    "            print('A wins!')\n",
    "        else:\n",
    "            print('B wins!')\n",
    "     elif x=='paper':\n",
    "        if y=='rock':\n",
    "            print('A wins!')\n",
    "        else:\n",
    "            print('B wins!')\n",
    "     else:\n",
    "        if y=='paper':\n",
    "            print('A wins!')\n",
    "        else:\n",
    "            print('B wins!')\n",
    " else:\n",
    "     print('its a tie!')\n",
    "interact(game,player1=['rock','paper','scissors'],player2=['rock','paper','scissors']);\n"
   ]
  },
  {
   "cell_type": "code",
   "execution_count": null,
   "metadata": {},
   "outputs": [],
   "source": [
    "from ipywidgets import interact\n",
    "import ipywidgets as widgets\n",
    "def func(x):\n",
    "    print (x)\n",
    "interact(func,x=['hello','option1','option2'])"
   ]
  },
  {
   "cell_type": "code",
   "execution_count": 8,
   "metadata": {},
   "outputs": [
    {
     "name": "stdout",
     "output_type": "stream",
     "text": [
      "enter any number in the range 2,10\n",
      "4\n",
      "guess is too low\n",
      "wanna guess again:y\n",
      "enter any number in the range 2,10\n",
      "5\n",
      "guess is too low\n",
      "wanna guess again:y\n",
      "enter any number in the range 2,10\n",
      "8\n",
      "guess is too low\n",
      "wanna guess again:y\n",
      "enter any number in the range 2,10\n",
      "10\n",
      "your guess is too high\n",
      "wanna guess again:y\n",
      "enter any number in the range 2,10\n",
      "9\n",
      "your guess is correct\n",
      "wanna guess again:n\n"
     ]
    }
   ],
   "source": [
    "#guessing the number\n",
    "#you can also give range as your input\n",
    "import random\n",
    "while True:\n",
    " print('enter any number in the range 2,10')\n",
    " a=int(input())\n",
    " x=random.randint(2,10)\n",
    " if a==x:\n",
    "    print('your guess is correct')\n",
    " elif a<x:\n",
    "    print('guess is too low')\n",
    " elif a>x:\n",
    "    print('your guess is too high')\n",
    " else:\n",
    "    print('your guess is wrong')\n",
    " n=input('wanna guess again:')\n",
    " if n=='y':\n",
    "    continue\n",
    " else:\n",
    "    break"
   ]
  },
  {
   "cell_type": "code",
   "execution_count": 4,
   "metadata": {},
   "outputs": [
    {
     "name": "stdout",
     "output_type": "stream",
     "text": [
      "[2, 4, 5, 6, 8]\n"
     ]
    }
   ],
   "source": [
    "#common in both lists without duplicates using list comprehensions\n",
    "l=[1,1,2,3,3,4,5,6,7,7,8]\n",
    "m=[1,2,3,4,5,6,7,8,9]\n",
    "x=[i for i in l if i in m]\n",
    "#for reputition to not occur\n",
    "y=[i for i in x if x.count(i)==1]\n",
    "print(y)"
   ]
  },
  {
   "cell_type": "code",
   "execution_count": 1,
   "metadata": {},
   "outputs": [
    {
     "name": "stdout",
     "output_type": "stream",
     "text": [
      "enter a number:\n",
      "45\n",
      "45 is not a prime number\n"
     ]
    }
   ],
   "source": [
    "#prime or not\n",
    "print('enter a number:')\n",
    "n=int(input())\n",
    "f=0\n",
    "if(n!=1):\n",
    " for i in range(2,int(n/2)):\n",
    "    if n%i==0:\n",
    "        f=f+1\n",
    "if f==0:\n",
    "    print('{} is a prime number'.format(n))\n",
    "elif n==1:\n",
    "    print('1 is a prime number')\n",
    "else:\n",
    "    print(\"{} is not a prime number\".format(n))"
   ]
  },
  {
   "cell_type": "code",
   "execution_count": 15,
   "metadata": {},
   "outputs": [
    {
     "name": "stdout",
     "output_type": "stream",
     "text": [
      "[1, 5]\n"
     ]
    }
   ],
   "source": [
    "#list containing only the first and last element using functions\n",
    "def list(l):\n",
    "   m=[]\n",
    "   m=[l[0],l[len(l)-1]]\n",
    "   return m   \n",
    "l=[1,2,3,4,5]\n",
    "x=list(l)\n",
    "print(x)"
   ]
  },
  {
   "cell_type": "code",
   "execution_count": 27,
   "metadata": {},
   "outputs": [
    {
     "name": "stdout",
     "output_type": "stream",
     "text": [
      "enter value of n:\n",
      "5\n",
      "[1, 1, 2, 3, 5]\n"
     ]
    }
   ],
   "source": [
    "#finanocci series\n",
    "def fib(n):\n",
    "    if n==0 or n==1:\n",
    "        return 1\n",
    "    else:\n",
    "        return fib(n-1)+fib(n-2)\n",
    "    \n",
    "print('enter value of n:')\n",
    "n=int(input())\n",
    "m=[]\n",
    "for i in range(0,n):\n",
    " m.append(fib(i))\n",
    "print(m)"
   ]
  },
  {
   "cell_type": "code",
   "execution_count": 28,
   "metadata": {},
   "outputs": [
    {
     "name": "stdout",
     "output_type": "stream",
     "text": [
      "{1, 2, 3, 4, 5, 6, 7}\n"
     ]
    }
   ],
   "source": [
    "#removing duplicates\n",
    "#using sets which are the collections of unordered lists\n",
    "l=[1,1,2,2,3,3,4,5,6,7]\n",
    "m=set(l)\n",
    "print(m)"
   ]
  },
  {
   "cell_type": "code",
   "execution_count": 39,
   "metadata": {},
   "outputs": [
    {
     "name": "stdout",
     "output_type": "stream",
     "text": [
      "[1, 2, 3, 4, 5, 6]\n"
     ]
    }
   ],
   "source": [
    "#other method\n",
    "l=[1,1,2,2,3,3,4,5,6]\n",
    "a=[]\n",
    "for x in l:\n",
    "    if x not in a:\n",
    "     a.append(x)\n",
    "print(a)"
   ]
  },
  {
   "cell_type": "code",
   "execution_count": 50,
   "metadata": {},
   "outputs": [
    {
     "name": "stdout",
     "output_type": "stream",
     "text": [
      "hello this is me\n",
      "me is this hello\n"
     ]
    }
   ],
   "source": [
    "#reverse word order\n",
    "l=input()\n",
    "print(' '.join(l.split()[::-1]))"
   ]
  },
  {
   "cell_type": "code",
   "execution_count": 4,
   "metadata": {},
   "outputs": [
    {
     "name": "stdout",
     "output_type": "stream",
     "text": [
      "tdtu.\n"
     ]
    }
   ],
   "source": [
    "#password generator\n",
    "import string \n",
    "import random\n",
    "s='string.digits+string.ascii_letters+string.punctuation'\n",
    "length=5\n",
    "password=''.join(random.sample(s,length))\n",
    "print(password)"
   ]
  },
  {
   "cell_type": "code",
   "execution_count": 1,
   "metadata": {},
   "outputs": [
    {
     "name": "stdout",
     "output_type": "stream",
     "text": [
      "enter a four digit number:\n",
      "1234\n",
      "1 cows\n",
      "0 bulls\n",
      "want to guess again:y/n:\n",
      "n\n",
      "want to play again:\n",
      "n\n"
     ]
    }
   ],
   "source": [
    "#cows and bulls game\n",
    "#using main\n",
    "import random\n",
    "def game():\n",
    " while True:   \n",
    "  n=str(random.randint(1000,9999))\n",
    "  while True:\n",
    "    print('enter a four digit number:')\n",
    "    m=input()\n",
    "    n.split()\n",
    "    m.split()\n",
    "    k,l,a=0,0,0\n",
    "    for i in n:\n",
    "        for j in m:\n",
    "            if i==j and n.count(i)==m.count(j):\n",
    "              k=k+1\n",
    "            elif i==j and n.count(i)!=m.count(j):\n",
    "              l=l+1\n",
    "            else:\n",
    "              a=a+1\n",
    "    print('{} cows'.format(k))\n",
    "    print('{} bulls'.format(l))\n",
    "    #making guesses till your answer is correct\n",
    "    print('want to guess again:y/n:')\n",
    "    g=input()\n",
    "    if g=='y':\n",
    "        continue\n",
    "    else:\n",
    "        break\n",
    "        \n",
    "  print('want to play again:')\n",
    "  y=input()\n",
    "  if y=='y':\n",
    "    continue\n",
    "  else:\n",
    "    break\n",
    "    \n",
    "if __name__ == \"__main__\":\n",
    "    game()\n",
    "            "
   ]
  },
  {
   "cell_type": "code",
   "execution_count": null,
   "metadata": {},
   "outputs": [],
   "source": []
  }
 ],
 "metadata": {
  "kernelspec": {
   "display_name": "Python 3",
   "language": "python",
   "name": "python3"
  },
  "language_info": {
   "codemirror_mode": {
    "name": "ipython",
    "version": 3
   },
   "file_extension": ".py",
   "mimetype": "text/x-python",
   "name": "python",
   "nbconvert_exporter": "python",
   "pygments_lexer": "ipython3",
   "version": "3.7.3"
  }
 },
 "nbformat": 4,
 "nbformat_minor": 2
}
